{
 "cells": [
  {
   "cell_type": "code",
   "execution_count": 23,
   "metadata": {},
   "outputs": [],
   "source": [
    "import pandas as pd\n",
    "import numpy as np\n",
    "from Utilities import load_model"
   ]
  },
  {
   "cell_type": "code",
   "execution_count": 5,
   "metadata": {},
   "outputs": [],
   "source": [
    "import matplotlib.pyplot as plt"
   ]
  },
  {
   "cell_type": "code",
   "execution_count": 5,
   "metadata": {},
   "outputs": [],
   "source": [
    "tf_idf_vectorizer = load_model(\"trained_models/tfidf_vectorizer_max50000.all.L1.joblib\")\n",
    "lgrg_L1 = load_model(\"trained_models/lgreg.all.L1.C0.1.joblib\")"
   ]
  },
  {
   "cell_type": "markdown",
   "metadata": {},
   "source": [
    "### Check for important features in logistic regression"
   ]
  },
  {
   "cell_type": "code",
   "execution_count": 6,
   "metadata": {},
   "outputs": [],
   "source": [
    "tfidf_feature_names = tf_idf_vectorizer.get_feature_names()\n",
    "sentiment_metric_names = [\"corpus_score_sum\", \"corpus_score_ave\", \"negative_ratio\", \"most_negative_score\", \"word_num\", \"sentence_num\", \"num_of_question_mark\", \"num_of_exclaimation_mark\"]\n",
    "company_response_type = [\"company_response_Closed\", \"company_response_Closed with explanation\", \"company_response_Closed with monetary relief\", \"company_response_Closed with non-monetary relief\"]\n"
   ]
  },
  {
   "cell_type": "code",
   "execution_count": 32,
   "metadata": {},
   "outputs": [
    {
     "data": {
      "text/plain": [
       "array([0.])"
      ]
     },
     "execution_count": 32,
     "metadata": {},
     "output_type": "execute_result"
    }
   ],
   "source": [
    "lgrg_L1.coef_.T[1]"
   ]
  },
  {
   "cell_type": "code",
   "execution_count": 67,
   "metadata": {},
   "outputs": [],
   "source": [
    "def get_nonzero_coef_names(lgrg_model, tfid_feature_names, sentiment_metric_names, company_response_type):\n",
    "    \"\"\"Get the feature names where logistic regression coefs are not zero\"\"\"\n",
    "    nonzero_coefs = []\n",
    "    abs_nonzero_coefs = []\n",
    "    indexes = []\n",
    "    feature_names = []\n",
    "    for i in np.arange(len(lgrg_L1.coef_.T)):\n",
    "        coef = lgrg_L1.coef_.T[i][0]\n",
    "        \n",
    "        if abs(coef) > 1e-8:\n",
    "            nonzero_coefs.append(coef)\n",
    "            abs_nonzero_coefs.append(abs(coef))\n",
    "            indexes.append(i)\n",
    "            if i < len(tfid_feature_names):\n",
    "                feature_names.append(tfid_feature_names[i])\n",
    "            elif i < (len(tfid_feature_names) + len(sentiment_metric_names)):\n",
    "                feature_names.append(sentiment_metric_names[i - len(tfid_feature_names)])\n",
    "            else:\n",
    "                feature_names.append(company_response_type[i - len(sentiment_metric_names) - len(tfid_feature_names)])\n",
    "                \n",
    "    df = pd.DataFrame()\n",
    "    df[\"index\"] = indexes\n",
    "    df[\"nonzero_coef\"] = nonzero_coefs\n",
    "    df[\"nonzero_abs_coef\"] = abs_nonzero_coefs\n",
    "    df[\"feature_names\"] = feature_names\n",
    "    \n",
    "    return df\n",
    "                "
   ]
  },
  {
   "cell_type": "code",
   "execution_count": 68,
   "metadata": {},
   "outputs": [],
   "source": [
    "important_features = get_nonzero_coef_names(lgrg_L1,\n",
    "                                            tfidf_feature_names,\n",
    "                                            sentiment_metric_names,\n",
    "                                            company_response_type)"
   ]
  },
  {
   "cell_type": "code",
   "execution_count": 69,
   "metadata": {},
   "outputs": [
    {
     "data": {
      "text/plain": [
       "310"
      ]
     },
     "execution_count": 69,
     "metadata": {},
     "output_type": "execute_result"
    }
   ],
   "source": [
    "len(important_features)"
   ]
  },
  {
   "cell_type": "code",
   "execution_count": 87,
   "metadata": {},
   "outputs": [],
   "source": [
    "sorted_important_features = important_features.sort_values(by=[\"nonzero_abs_coef\"], ascending=False)"
   ]
  },
  {
   "cell_type": "code",
   "execution_count": 90,
   "metadata": {},
   "outputs": [
    {
     "data": {
      "text/html": [
       "<div>\n",
       "<style scoped>\n",
       "    .dataframe tbody tr th:only-of-type {\n",
       "        vertical-align: middle;\n",
       "    }\n",
       "\n",
       "    .dataframe tbody tr th {\n",
       "        vertical-align: top;\n",
       "    }\n",
       "\n",
       "    .dataframe thead th {\n",
       "        text-align: right;\n",
       "    }\n",
       "</style>\n",
       "<table border=\"1\" class=\"dataframe\">\n",
       "  <thead>\n",
       "    <tr style=\"text-align: right;\">\n",
       "      <th></th>\n",
       "      <th>index</th>\n",
       "      <th>nonzero_coef</th>\n",
       "      <th>nonzero_abs_coef</th>\n",
       "      <th>feature_names</th>\n",
       "    </tr>\n",
       "  </thead>\n",
       "  <tbody>\n",
       "    <tr>\n",
       "      <th>267</th>\n",
       "      <td>44887</td>\n",
       "      <td>7.232970</td>\n",
       "      <td>7.232970</td>\n",
       "      <td>tcpa</td>\n",
       "    </tr>\n",
       "    <tr>\n",
       "      <th>245</th>\n",
       "      <td>41143</td>\n",
       "      <td>3.736539</td>\n",
       "      <td>3.736539</td>\n",
       "      <td>scottrade</td>\n",
       "    </tr>\n",
       "    <tr>\n",
       "      <th>18</th>\n",
       "      <td>2712</td>\n",
       "      <td>3.416254</td>\n",
       "      <td>3.416254</td>\n",
       "      <td>american express</td>\n",
       "    </tr>\n",
       "    <tr>\n",
       "      <th>102</th>\n",
       "      <td>15883</td>\n",
       "      <td>2.989087</td>\n",
       "      <td>2.989087</td>\n",
       "      <td>equifax</td>\n",
       "    </tr>\n",
       "    <tr>\n",
       "      <th>270</th>\n",
       "      <td>45104</td>\n",
       "      <td>-2.833702</td>\n",
       "      <td>2.833702</td>\n",
       "      <td>thank</td>\n",
       "    </tr>\n",
       "    <tr>\n",
       "      <th>27</th>\n",
       "      <td>3739</td>\n",
       "      <td>2.324839</td>\n",
       "      <td>2.324839</td>\n",
       "      <td>attached</td>\n",
       "    </tr>\n",
       "    <tr>\n",
       "      <th>194</th>\n",
       "      <td>32645</td>\n",
       "      <td>-2.195305</td>\n",
       "      <td>2.195305</td>\n",
       "      <td>payday</td>\n",
       "    </tr>\n",
       "    <tr>\n",
       "      <th>110</th>\n",
       "      <td>16688</td>\n",
       "      <td>2.187422</td>\n",
       "      <td>2.187422</td>\n",
       "      <td>failed</td>\n",
       "    </tr>\n",
       "    <tr>\n",
       "      <th>222</th>\n",
       "      <td>37498</td>\n",
       "      <td>2.123806</td>\n",
       "      <td>2.123806</td>\n",
       "      <td>refuse</td>\n",
       "    </tr>\n",
       "    <tr>\n",
       "      <th>49</th>\n",
       "      <td>7282</td>\n",
       "      <td>2.055631</td>\n",
       "      <td>2.055631</td>\n",
       "      <td>cfpb</td>\n",
       "    </tr>\n",
       "    <tr>\n",
       "      <th>111</th>\n",
       "      <td>16799</td>\n",
       "      <td>1.999381</td>\n",
       "      <td>1.999381</td>\n",
       "      <td>false</td>\n",
       "    </tr>\n",
       "    <tr>\n",
       "      <th>232</th>\n",
       "      <td>39280</td>\n",
       "      <td>-1.911323</td>\n",
       "      <td>1.911323</td>\n",
       "      <td>request investigate</td>\n",
       "    </tr>\n",
       "    <tr>\n",
       "      <th>139</th>\n",
       "      <td>20736</td>\n",
       "      <td>1.848396</td>\n",
       "      <td>1.848396</td>\n",
       "      <td>illegal</td>\n",
       "    </tr>\n",
       "    <tr>\n",
       "      <th>96</th>\n",
       "      <td>14516</td>\n",
       "      <td>1.828917</td>\n",
       "      <td>1.828917</td>\n",
       "      <td>discover</td>\n",
       "    </tr>\n",
       "    <tr>\n",
       "      <th>291</th>\n",
       "      <td>48291</td>\n",
       "      <td>1.809327</td>\n",
       "      <td>1.809327</td>\n",
       "      <td>violated</td>\n",
       "    </tr>\n",
       "    <tr>\n",
       "      <th>53</th>\n",
       "      <td>7735</td>\n",
       "      <td>1.803760</td>\n",
       "      <td>1.803760</td>\n",
       "      <td>chase</td>\n",
       "    </tr>\n",
       "    <tr>\n",
       "      <th>138</th>\n",
       "      <td>20579</td>\n",
       "      <td>-1.757667</td>\n",
       "      <td>1.757667</td>\n",
       "      <td>husband</td>\n",
       "    </tr>\n",
       "    <tr>\n",
       "      <th>223</th>\n",
       "      <td>37551</td>\n",
       "      <td>1.742846</td>\n",
       "      <td>1.742846</td>\n",
       "      <td>refused</td>\n",
       "    </tr>\n",
       "    <tr>\n",
       "      <th>95</th>\n",
       "      <td>14493</td>\n",
       "      <td>1.686402</td>\n",
       "      <td>1.686402</td>\n",
       "      <td>disclosure</td>\n",
       "    </tr>\n",
       "    <tr>\n",
       "      <th>147</th>\n",
       "      <td>21864</td>\n",
       "      <td>1.684566</td>\n",
       "      <td>1.684566</td>\n",
       "      <td>inquiry</td>\n",
       "    </tr>\n",
       "  </tbody>\n",
       "</table>\n",
       "</div>"
      ],
      "text/plain": [
       "     index  nonzero_coef  nonzero_abs_coef        feature_names\n",
       "267  44887      7.232970          7.232970                 tcpa\n",
       "245  41143      3.736539          3.736539            scottrade\n",
       "18    2712      3.416254          3.416254     american express\n",
       "102  15883      2.989087          2.989087              equifax\n",
       "270  45104     -2.833702          2.833702                thank\n",
       "27    3739      2.324839          2.324839             attached\n",
       "194  32645     -2.195305          2.195305               payday\n",
       "110  16688      2.187422          2.187422               failed\n",
       "222  37498      2.123806          2.123806               refuse\n",
       "49    7282      2.055631          2.055631                 cfpb\n",
       "111  16799      1.999381          1.999381                false\n",
       "232  39280     -1.911323          1.911323  request investigate\n",
       "139  20736      1.848396          1.848396              illegal\n",
       "96   14516      1.828917          1.828917             discover\n",
       "291  48291      1.809327          1.809327             violated\n",
       "53    7735      1.803760          1.803760                chase\n",
       "138  20579     -1.757667          1.757667              husband\n",
       "223  37551      1.742846          1.742846              refused\n",
       "95   14493      1.686402          1.686402           disclosure\n",
       "147  21864      1.684566          1.684566              inquiry"
      ]
     },
     "execution_count": 90,
     "metadata": {},
     "output_type": "execute_result"
    }
   ],
   "source": [
    "sorted_important_features[:20]"
   ]
  },
  {
   "cell_type": "markdown",
   "metadata": {},
   "source": [
    "### Interesting part of these important features. \n",
    "\n",
    "- tcpa is \"(Telephone Consumer Protection Act) is a federal statute enacted in 1991 designed to safeguard consumer privacy.\"\n",
    "- american express is the company with highest dispute rate in the EDA result\n",
    "- equifax is the company with highest dispute number in the EDA result\n",
    "- words like failed, illege, violated, refused, fraud make sense to contribute to whether escalate or not\n"
   ]
  },
  {
   "cell_type": "code",
   "execution_count": 71,
   "metadata": {},
   "outputs": [
    {
     "data": {
      "text/plain": [
       "(array([  3.,  24., 138., 112.,  28.,   2.,   2.,   0.,   0.,   1.]),\n",
       " array([-2.83370184, -1.82703462, -0.8203674 ,  0.18629982,  1.19296703,\n",
       "         2.19963425,  3.20630147,  4.21296869,  5.21963591,  6.22630313,\n",
       "         7.23297034]),\n",
       " <a list of 10 Patch objects>)"
      ]
     },
     "execution_count": 71,
     "metadata": {},
     "output_type": "execute_result"
    },
    {
     "data": {
      "image/png": "[encoded data removed]",
      "text/plain": [
       "<Figure size 432x288 with 1 Axes>"
      ]
     },
     "metadata": {
      "needs_background": "light"
     },
     "output_type": "display_data"
    }
   ],
   "source": [
    "plt.hist(important_features[\"nonzero_coef\"])"
   ]
  },
  {
   "cell_type": "markdown",
   "metadata": {},
   "source": [
    "### Check important feature in Logistic regression L2"
   ]
  },
  {
   "cell_type": "code",
   "execution_count": 55,
   "metadata": {},
   "outputs": [],
   "source": [
    "lgrg = load_model(\"trained_models/lgreg.all.joblib\")\n",
    "tfidf = load_model(\"trained_models/tfidf_vectorizer_max50000.all.joblib\")"
   ]
  },
  {
   "cell_type": "code",
   "execution_count": 59,
   "metadata": {},
   "outputs": [],
   "source": [
    "tfidf_feature_names_L2 = tfidf.get_feature_names()"
   ]
  },
  {
   "cell_type": "code",
   "execution_count": 61,
   "metadata": {},
   "outputs": [],
   "source": [
    "coefs_L2 = get_nonzero_coef_names(lgrg, tfidf_feature_names_L2, sentiment_metric_names,company_response_type)"
   ]
  },
  {
   "cell_type": "code",
   "execution_count": 84,
   "metadata": {},
   "outputs": [],
   "source": [
    "coefs_L2_sorted = coefs_L2.sort_values(by=[\"nonzero_abs_coef\"], ascending=False)"
   ]
  },
  {
   "cell_type": "code",
   "execution_count": 85,
   "metadata": {},
   "outputs": [
    {
     "data": {
      "text/html": [
       "<div>\n",
       "<style scoped>\n",
       "    .dataframe tbody tr th:only-of-type {\n",
       "        vertical-align: middle;\n",
       "    }\n",
       "\n",
       "    .dataframe tbody tr th {\n",
       "        vertical-align: top;\n",
       "    }\n",
       "\n",
       "    .dataframe thead th {\n",
       "        text-align: right;\n",
       "    }\n",
       "</style>\n",
       "<table border=\"1\" class=\"dataframe\">\n",
       "  <thead>\n",
       "    <tr style=\"text-align: right;\">\n",
       "      <th></th>\n",
       "      <th>index</th>\n",
       "      <th>nonzero_coef</th>\n",
       "      <th>nonzero_abs_coef</th>\n",
       "      <th>feature_names</th>\n",
       "    </tr>\n",
       "  </thead>\n",
       "  <tbody>\n",
       "    <tr>\n",
       "      <th>44920</th>\n",
       "      <td>45104</td>\n",
       "      <td>-2.833702</td>\n",
       "      <td>2.833702</td>\n",
       "      <td>thank</td>\n",
       "    </tr>\n",
       "    <tr>\n",
       "      <th>32509</th>\n",
       "      <td>32645</td>\n",
       "      <td>-2.195305</td>\n",
       "      <td>2.195305</td>\n",
       "      <td>payday</td>\n",
       "    </tr>\n",
       "    <tr>\n",
       "      <th>39118</th>\n",
       "      <td>39280</td>\n",
       "      <td>-1.911323</td>\n",
       "      <td>1.911323</td>\n",
       "      <td>request investigate</td>\n",
       "    </tr>\n",
       "    <tr>\n",
       "      <th>20479</th>\n",
       "      <td>20579</td>\n",
       "      <td>-1.757667</td>\n",
       "      <td>1.757667</td>\n",
       "      <td>husband</td>\n",
       "    </tr>\n",
       "    <tr>\n",
       "      <th>44379</th>\n",
       "      <td>44560</td>\n",
       "      <td>-1.654418</td>\n",
       "      <td>1.654418</td>\n",
       "      <td>sure</td>\n",
       "    </tr>\n",
       "    <tr>\n",
       "      <th>19716</th>\n",
       "      <td>19814</td>\n",
       "      <td>-1.466951</td>\n",
       "      <td>1.466951</td>\n",
       "      <td>help</td>\n",
       "    </tr>\n",
       "    <tr>\n",
       "      <th>42854</th>\n",
       "      <td>43030</td>\n",
       "      <td>-1.445660</td>\n",
       "      <td>1.445660</td>\n",
       "      <td>speak</td>\n",
       "    </tr>\n",
       "    <tr>\n",
       "      <th>48709</th>\n",
       "      <td>48908</td>\n",
       "      <td>-1.414781</td>\n",
       "      <td>1.414781</td>\n",
       "      <td>went</td>\n",
       "    </tr>\n",
       "    <tr>\n",
       "      <th>40584</th>\n",
       "      <td>40750</td>\n",
       "      <td>-1.389766</td>\n",
       "      <td>1.389766</td>\n",
       "      <td>sale date</td>\n",
       "    </tr>\n",
       "    <tr>\n",
       "      <th>42623</th>\n",
       "      <td>42799</td>\n",
       "      <td>-1.382292</td>\n",
       "      <td>1.382292</td>\n",
       "      <td>situation</td>\n",
       "    </tr>\n",
       "    <tr>\n",
       "      <th>7996</th>\n",
       "      <td>8034</td>\n",
       "      <td>-1.290833</td>\n",
       "      <td>1.290833</td>\n",
       "      <td>checked</td>\n",
       "    </tr>\n",
       "    <tr>\n",
       "      <th>48612</th>\n",
       "      <td>48811</td>\n",
       "      <td>-1.195477</td>\n",
       "      <td>1.195477</td>\n",
       "      <td>week</td>\n",
       "    </tr>\n",
       "    <tr>\n",
       "      <th>5908</th>\n",
       "      <td>5936</td>\n",
       "      <td>-1.194205</td>\n",
       "      <td>1.194205</td>\n",
       "      <td>called</td>\n",
       "    </tr>\n",
       "    <tr>\n",
       "      <th>28266</th>\n",
       "      <td>28392</td>\n",
       "      <td>-1.124629</td>\n",
       "      <td>1.124629</td>\n",
       "      <td>never lived</td>\n",
       "    </tr>\n",
       "    <tr>\n",
       "      <th>38058</th>\n",
       "      <td>38217</td>\n",
       "      <td>-1.106379</td>\n",
       "      <td>1.106379</td>\n",
       "      <td>repay</td>\n",
       "    </tr>\n",
       "    <tr>\n",
       "      <th>49137</th>\n",
       "      <td>49337</td>\n",
       "      <td>-1.042227</td>\n",
       "      <td>1.042227</td>\n",
       "      <td>work</td>\n",
       "    </tr>\n",
       "    <tr>\n",
       "      <th>19988</th>\n",
       "      <td>20087</td>\n",
       "      <td>-1.022943</td>\n",
       "      <td>1.022943</td>\n",
       "      <td>hold</td>\n",
       "    </tr>\n",
       "    <tr>\n",
       "      <th>17299</th>\n",
       "      <td>17389</td>\n",
       "      <td>-0.998001</td>\n",
       "      <td>0.998001</td>\n",
       "      <td>feel</td>\n",
       "    </tr>\n",
       "    <tr>\n",
       "      <th>46666</th>\n",
       "      <td>46853</td>\n",
       "      <td>-0.970774</td>\n",
       "      <td>0.970774</td>\n",
       "      <td>transworld</td>\n",
       "    </tr>\n",
       "    <tr>\n",
       "      <th>12609</th>\n",
       "      <td>12674</td>\n",
       "      <td>-0.958296</td>\n",
       "      <td>0.958296</td>\n",
       "      <td>day</td>\n",
       "    </tr>\n",
       "  </tbody>\n",
       "</table>\n",
       "</div>"
      ],
      "text/plain": [
       "       index  nonzero_coef  nonzero_abs_coef        feature_names\n",
       "44920  45104     -2.833702          2.833702                thank\n",
       "32509  32645     -2.195305          2.195305               payday\n",
       "39118  39280     -1.911323          1.911323  request investigate\n",
       "20479  20579     -1.757667          1.757667              husband\n",
       "44379  44560     -1.654418          1.654418                 sure\n",
       "19716  19814     -1.466951          1.466951                 help\n",
       "42854  43030     -1.445660          1.445660                speak\n",
       "48709  48908     -1.414781          1.414781                 went\n",
       "40584  40750     -1.389766          1.389766            sale date\n",
       "42623  42799     -1.382292          1.382292            situation\n",
       "7996    8034     -1.290833          1.290833              checked\n",
       "48612  48811     -1.195477          1.195477                 week\n",
       "5908    5936     -1.194205          1.194205               called\n",
       "28266  28392     -1.124629          1.124629          never lived\n",
       "38058  38217     -1.106379          1.106379                repay\n",
       "49137  49337     -1.042227          1.042227                 work\n",
       "19988  20087     -1.022943          1.022943                 hold\n",
       "17299  17389     -0.998001          0.998001                 feel\n",
       "46666  46853     -0.970774          0.970774           transworld\n",
       "12609  12674     -0.958296          0.958296                  day"
      ]
     },
     "execution_count": 85,
     "metadata": {},
     "output_type": "execute_result"
    }
   ],
   "source": [
    "coefs_L2_sorted.head(20)"
   ]
  },
  {
   "cell_type": "markdown",
   "metadata": {},
   "source": [
    "### Check the feature names with highest tf-idf score"
   ]
  },
  {
   "cell_type": "code",
   "execution_count": 24,
   "metadata": {},
   "outputs": [],
   "source": [
    "from joblib import load\n",
    "def load_model(saved_model_file):\n",
    "    with open(saved_model_file, 'rb') as f:\n",
    "        temp_model = load(f)\n",
    "    return temp_model"
   ]
  },
  {
   "cell_type": "code",
   "execution_count": 25,
   "metadata": {},
   "outputs": [],
   "source": [
    "tf_idf_file = \"trained_models/tfidf_vectorizer_max50000.for_escalation_classifier.joblib\"\n",
    "x = pd.read_csv(\"data/narrative_preprocessed.for_escalation_prediction.csv\")"
   ]
  },
  {
   "cell_type": "code",
   "execution_count": 26,
   "metadata": {},
   "outputs": [],
   "source": [
    "tf_idf_model = load_model(tf_idf_file)\n",
    "X_vectorized = tf_idf_model.transform(x[\"processed_narrative\"])"
   ]
  },
  {
   "cell_type": "code",
   "execution_count": 27,
   "metadata": {},
   "outputs": [],
   "source": [
    "def print_max_tf_idf_features(x_vectorized):\n",
    "    index_sorted_by_tfidf = x_vectorized.max(axis=0).toarray().ravel().argsort()\n",
    "    feature_names = np.array(tf_idf_model.get_feature_names())\n",
    "    print(\"features with lowest tf_idf: \")\n",
    "    print(feature_names[index_sorted_by_tfidf[:100]])\n",
    "    print(\"features with highest tf_idf: \")\n",
    "    print(feature_names[index_sorted_by_tfidf[-100:]])"
   ]
  },
  {
   "cell_type": "code",
   "execution_count": 28,
   "metadata": {},
   "outputs": [
    {
     "name": "stdout",
     "output_type": "stream",
     "text": [
      "features with lowest tf_idf: \n",
      "['subsection section check' 'construed requiring consumer'\n",
      " 'described section title' 'method payment beginning'\n",
      " 'fund transfer similar' 'transfer similar method'\n",
      " 'similar method payment' 'notice consumer decision'\n",
      " 'consumer decision block' 'approving processing negotiable'\n",
      " 'service company acting' 'obtained resale' 'company acting issue'\n",
      " 'provision section not' 'instrument electronic'\n",
      " 'instrument electronic fund' 'purpose approving processing'\n",
      " 'approving processing' 'processing negotiable'\n",
      " 'processing negotiable instrument' 'negotiable instrument electronic'\n",
      " 'section shall construed' 'title information identified'\n",
      " 'information obtained resale' 'authorization purpose approving'\n",
      " 'apply check service' 'acting issue' 'issue authorization purpose'\n",
      " 'acting issue authorization' 'company provision section'\n",
      " 'verification company provision' 'shall contain address'\n",
      " 'promptly provide notice' 'paragraph reseller shall'\n",
      " 'obligation paragraph reseller' 'file notice shall' 'block file notice'\n",
      " 'identity theft access' 'reseller identified' 'decision block file'\n",
      " 'paragraph reseller' 'agency reseller identified'\n",
      " 'reseller shall promptly' 'carrying obligation paragraph'\n",
      " 'notice shall contain' 'carrying obligation' 'contain address telephone'\n",
      " 'blocked information law' 'accessing blocked information'\n",
      " 'theft access blocked' 'accessing blocked' 'construed requiring'\n",
      " 'agency accessing blocked' 'shall construed requiring' 'notice carrying'\n",
      " 'reseller identified information' 'access blocked information'\n",
      " 'notice carrying obligation' 'enforcement agency accessing'\n",
      " 'agency accessing' 'enforcement agency provision'\n",
      " 'agency provision section' 'information notice carrying'\n",
      " 'identified information notice' 'file agency obtain'\n",
      " 'agency obtain access' 'resale exception' 'obtained resale exception'\n",
      " 'exception verification' 'resale exception verification'\n",
      " 'exception verification company' 'agency prevent federal'\n",
      " 'prevent federal state' 'prevent federal' 'access subchapter'\n",
      " 'obtain access subchapter' 'section check service'\n",
      " 'section regard request' 'consumer accordance provision'\n",
      " 'consumer resulted identity' 'accordance provision subsection'\n",
      " 'section shall block' 'consumer report maintained'\n",
      " 'use consumer accordance' 'report maintained consumer'\n",
      " 'file consumer resulted' 'shall block consumer' 'regard request consumer'\n",
      " 'request consumer section' 'consumer section shall'\n",
      " 'subsequent use consumer' 'agency subsequent use'\n",
      " 'identifies consumer reporting' 'section identifies consumer'\n",
      " 'section identifies' 'subsection section identifies'\n",
      " 'provision subsection section' 'request consumer subsection'\n",
      " 'identified consumer informs' 'agency section regard']\n",
      "features with highest tf_idf: \n",
      "['neglected' 'delete' 'clearing' 'anytime' 'acc' 'ride' 'proposed'\n",
      " 'numerous' 'servic' 'prison' 'clue' 'sun' 'predator' 'alert' 'cst'\n",
      " 'dentist' 'discrepancy' 'reopen' 'nelnet' 'pmts' 'auth' 'gasoline' 'pop'\n",
      " 'dad' 'reaging' 'birthday' 'tracker' 'medical' 'phone' 'credco'\n",
      " 'disputed' 'told' 'inquiry' 'disputing' 'called' 'opened' 'job' 'ripped'\n",
      " 'blocking' 'paid' 'daily' 'remove' 'overcharged' 'contract' 'judgment'\n",
      " 'breach' 'account' 'continued' 'wasnt' 'pay' 'dept' 'response' 'calling'\n",
      " 'fix' 'pull' 'idea' 'getting' 'fradulent' 'misspelled' 'fraud' 'western'\n",
      " 'attached' 'sold' 'received' 'come' 'fraudulent' 'receive' 'hour' 'use'\n",
      " 'need' 'debt' 'report' 'charged' 'never' 'lab' 'day' 'not' 'credit'\n",
      " 'answer' 'validation' 'bank' 'hacked' 'date' 'stole' 'text' 'closed'\n",
      " 'government' 'acct' 'incorrect' 'included' 'capital' 'knowledge'\n",
      " 'reported' 'identity' 'repeated' 'balance' 'score' 'using' 'note'\n",
      " 'attachment']\n"
     ]
    }
   ],
   "source": [
    "print_max_tf_idf_features(X_vectorized)"
   ]
  },
  {
   "cell_type": "markdown",
   "metadata": {},
   "source": [
    "### Survey the effect of sentiment metrics\n",
    "Check where these metrics can differentiate dispute from non-dispute"
   ]
  },
  {
   "cell_type": "code",
   "execution_count": 29,
   "metadata": {},
   "outputs": [
    {
     "data": {
      "text/html": [
       "<div>\n",
       "<style scoped>\n",
       "    .dataframe tbody tr th:only-of-type {\n",
       "        vertical-align: middle;\n",
       "    }\n",
       "\n",
       "    .dataframe tbody tr th {\n",
       "        vertical-align: top;\n",
       "    }\n",
       "\n",
       "    .dataframe thead th {\n",
       "        text-align: right;\n",
       "    }\n",
       "</style>\n",
       "<table border=\"1\" class=\"dataframe\">\n",
       "  <thead>\n",
       "    <tr style=\"text-align: right;\">\n",
       "      <th></th>\n",
       "      <th>Date received</th>\n",
       "      <th>Product</th>\n",
       "      <th>Sub-product</th>\n",
       "      <th>Issue</th>\n",
       "      <th>Sub-issue</th>\n",
       "      <th>Consumer complaint narrative</th>\n",
       "      <th>Company public response</th>\n",
       "      <th>Company</th>\n",
       "      <th>State</th>\n",
       "      <th>ZIP code</th>\n",
       "      <th>...</th>\n",
       "      <th>corpus_score_sum</th>\n",
       "      <th>corpus_score_ave</th>\n",
       "      <th>negative_ratio</th>\n",
       "      <th>most_negative_score</th>\n",
       "      <th>word_num</th>\n",
       "      <th>sentence_num</th>\n",
       "      <th>num_of_question_mark</th>\n",
       "      <th>num_of_exclaimation_mark</th>\n",
       "      <th>company_response</th>\n",
       "      <th>dispute</th>\n",
       "    </tr>\n",
       "  </thead>\n",
       "  <tbody>\n",
       "    <tr>\n",
       "      <th>0</th>\n",
       "      <td>08/25/15</td>\n",
       "      <td>Bank account or service</td>\n",
       "      <td>Checking account</td>\n",
       "      <td>Problems caused by my funds being low</td>\n",
       "      <td>None</td>\n",
       "      <td>I have a complaint regarding the overdraft fee...</td>\n",
       "      <td>Company chooses not to provide a public response</td>\n",
       "      <td>FLAGSTAR BANK, FSB</td>\n",
       "      <td>MI</td>\n",
       "      <td>480XX</td>\n",
       "      <td>...</td>\n",
       "      <td>-0.7086</td>\n",
       "      <td>-0.088575</td>\n",
       "      <td>0.500000</td>\n",
       "      <td>-0.2960</td>\n",
       "      <td>124</td>\n",
       "      <td>8</td>\n",
       "      <td>0</td>\n",
       "      <td>0</td>\n",
       "      <td>Closed with explanation</td>\n",
       "      <td>0</td>\n",
       "    </tr>\n",
       "    <tr>\n",
       "      <th>1</th>\n",
       "      <td>08/25/15</td>\n",
       "      <td>Credit reporting</td>\n",
       "      <td>None</td>\n",
       "      <td>Incorrect information on credit report</td>\n",
       "      <td>Account terms</td>\n",
       "      <td>XXXX Collections Account # XXXX is reporting o...</td>\n",
       "      <td>None</td>\n",
       "      <td>EQUIFAX, INC.</td>\n",
       "      <td>LA</td>\n",
       "      <td>708XX</td>\n",
       "      <td>...</td>\n",
       "      <td>-0.1756</td>\n",
       "      <td>-0.087800</td>\n",
       "      <td>0.500000</td>\n",
       "      <td>-0.5574</td>\n",
       "      <td>55</td>\n",
       "      <td>2</td>\n",
       "      <td>0</td>\n",
       "      <td>0</td>\n",
       "      <td>Closed with explanation</td>\n",
       "      <td>0</td>\n",
       "    </tr>\n",
       "    <tr>\n",
       "      <th>2</th>\n",
       "      <td>08/25/15</td>\n",
       "      <td>Mortgage</td>\n",
       "      <td>Conventional adjustable mortgage (ARM)</td>\n",
       "      <td>Loan servicing, payments, escrow account</td>\n",
       "      <td>None</td>\n",
       "      <td>I just filled this out but web site timed out ...</td>\n",
       "      <td>None</td>\n",
       "      <td>Seterus, Inc.</td>\n",
       "      <td>CA</td>\n",
       "      <td>926XX</td>\n",
       "      <td>...</td>\n",
       "      <td>-0.0298</td>\n",
       "      <td>-0.001568</td>\n",
       "      <td>0.315789</td>\n",
       "      <td>-0.5859</td>\n",
       "      <td>422</td>\n",
       "      <td>19</td>\n",
       "      <td>0</td>\n",
       "      <td>4</td>\n",
       "      <td>Closed with explanation</td>\n",
       "      <td>0</td>\n",
       "    </tr>\n",
       "    <tr>\n",
       "      <th>3</th>\n",
       "      <td>08/25/15</td>\n",
       "      <td>Debt collection</td>\n",
       "      <td>Other (i.e. phone, health club, etc.)</td>\n",
       "      <td>Disclosure verification of debt</td>\n",
       "      <td>Right to dispute notice not received</td>\n",
       "      <td>This file has been relisted on my credit repor...</td>\n",
       "      <td>Company believes it acted appropriately as aut...</td>\n",
       "      <td>ERC</td>\n",
       "      <td>FL</td>\n",
       "      <td>None</td>\n",
       "      <td>...</td>\n",
       "      <td>0.1318</td>\n",
       "      <td>0.018829</td>\n",
       "      <td>0.142857</td>\n",
       "      <td>-0.2500</td>\n",
       "      <td>123</td>\n",
       "      <td>7</td>\n",
       "      <td>0</td>\n",
       "      <td>0</td>\n",
       "      <td>Closed with non-monetary relief</td>\n",
       "      <td>0</td>\n",
       "    </tr>\n",
       "    <tr>\n",
       "      <th>4</th>\n",
       "      <td>08/25/15</td>\n",
       "      <td>Mortgage</td>\n",
       "      <td>Home equity loan or line of credit</td>\n",
       "      <td>Loan modification,collection,foreclosure</td>\n",
       "      <td>None</td>\n",
       "      <td>We took out a HELOC XXXX years ago. We thought...</td>\n",
       "      <td>Company believes it acted appropriately as aut...</td>\n",
       "      <td>Ditech Financial LLC</td>\n",
       "      <td>FL</td>\n",
       "      <td>None</td>\n",
       "      <td>...</td>\n",
       "      <td>1.1912</td>\n",
       "      <td>0.170171</td>\n",
       "      <td>0.142857</td>\n",
       "      <td>-0.1280</td>\n",
       "      <td>184</td>\n",
       "      <td>7</td>\n",
       "      <td>0</td>\n",
       "      <td>0</td>\n",
       "      <td>Closed with explanation</td>\n",
       "      <td>0</td>\n",
       "    </tr>\n",
       "  </tbody>\n",
       "</table>\n",
       "<p>5 rows × 28 columns</p>\n",
       "</div>"
      ],
      "text/plain": [
       "  Date received                  Product  \\\n",
       "0      08/25/15  Bank account or service   \n",
       "1      08/25/15         Credit reporting   \n",
       "2      08/25/15                 Mortgage   \n",
       "3      08/25/15          Debt collection   \n",
       "4      08/25/15                 Mortgage   \n",
       "\n",
       "                              Sub-product  \\\n",
       "0                        Checking account   \n",
       "1                                    None   \n",
       "2  Conventional adjustable mortgage (ARM)   \n",
       "3   Other (i.e. phone, health club, etc.)   \n",
       "4      Home equity loan or line of credit   \n",
       "\n",
       "                                      Issue  \\\n",
       "0     Problems caused by my funds being low   \n",
       "1    Incorrect information on credit report   \n",
       "2  Loan servicing, payments, escrow account   \n",
       "3           Disclosure verification of debt   \n",
       "4  Loan modification,collection,foreclosure   \n",
       "\n",
       "                              Sub-issue  \\\n",
       "0                                  None   \n",
       "1                         Account terms   \n",
       "2                                  None   \n",
       "3  Right to dispute notice not received   \n",
       "4                                  None   \n",
       "\n",
       "                        Consumer complaint narrative  \\\n",
       "0  I have a complaint regarding the overdraft fee...   \n",
       "1  XXXX Collections Account # XXXX is reporting o...   \n",
       "2  I just filled this out but web site timed out ...   \n",
       "3  This file has been relisted on my credit repor...   \n",
       "4  We took out a HELOC XXXX years ago. We thought...   \n",
       "\n",
       "                             Company public response               Company  \\\n",
       "0   Company chooses not to provide a public response    FLAGSTAR BANK, FSB   \n",
       "1                                               None         EQUIFAX, INC.   \n",
       "2                                               None         Seterus, Inc.   \n",
       "3  Company believes it acted appropriately as aut...                   ERC   \n",
       "4  Company believes it acted appropriately as aut...  Ditech Financial LLC   \n",
       "\n",
       "  State ZIP code  ... corpus_score_sum corpus_score_ave negative_ratio  \\\n",
       "0    MI    480XX  ...          -0.7086        -0.088575       0.500000   \n",
       "1    LA    708XX  ...          -0.1756        -0.087800       0.500000   \n",
       "2    CA    926XX  ...          -0.0298        -0.001568       0.315789   \n",
       "3    FL     None  ...           0.1318         0.018829       0.142857   \n",
       "4    FL     None  ...           1.1912         0.170171       0.142857   \n",
       "\n",
       "  most_negative_score word_num sentence_num num_of_question_mark  \\\n",
       "0             -0.2960      124            8                    0   \n",
       "1             -0.5574       55            2                    0   \n",
       "2             -0.5859      422           19                    0   \n",
       "3             -0.2500      123            7                    0   \n",
       "4             -0.1280      184            7                    0   \n",
       "\n",
       "   num_of_exclaimation_mark                 company_response  dispute  \n",
       "0                         0          Closed with explanation        0  \n",
       "1                         0          Closed with explanation        0  \n",
       "2                         4          Closed with explanation        0  \n",
       "3                         0  Closed with non-monetary relief        0  \n",
       "4                         0          Closed with explanation        0  \n",
       "\n",
       "[5 rows x 28 columns]"
      ]
     },
     "execution_count": 29,
     "metadata": {},
     "output_type": "execute_result"
    }
   ],
   "source": [
    "sentiment = pd.read_csv(\"data/complaints_with_sentiment_metric.csv\")\n",
    "sentiment.head()"
   ]
  },
  {
   "cell_type": "code",
   "execution_count": 30,
   "metadata": {},
   "outputs": [
    {
     "data": {
      "text/html": [
       "<div>\n",
       "<style scoped>\n",
       "    .dataframe tbody tr th:only-of-type {\n",
       "        vertical-align: middle;\n",
       "    }\n",
       "\n",
       "    .dataframe tbody tr th {\n",
       "        vertical-align: top;\n",
       "    }\n",
       "\n",
       "    .dataframe thead th {\n",
       "        text-align: right;\n",
       "    }\n",
       "</style>\n",
       "<table border=\"1\" class=\"dataframe\">\n",
       "  <thead>\n",
       "    <tr style=\"text-align: right;\">\n",
       "      <th></th>\n",
       "      <th>Complaint ID</th>\n",
       "      <th>corpus_score_sum</th>\n",
       "      <th>corpus_score_ave</th>\n",
       "      <th>negative_ratio</th>\n",
       "      <th>most_negative_score</th>\n",
       "      <th>word_num</th>\n",
       "      <th>sentence_num</th>\n",
       "      <th>num_of_question_mark</th>\n",
       "      <th>num_of_exclaimation_mark</th>\n",
       "      <th>company_response</th>\n",
       "      <th>dispute</th>\n",
       "    </tr>\n",
       "  </thead>\n",
       "  <tbody>\n",
       "    <tr>\n",
       "      <th>0</th>\n",
       "      <td>1535719</td>\n",
       "      <td>-0.7086</td>\n",
       "      <td>-0.088575</td>\n",
       "      <td>0.500000</td>\n",
       "      <td>-0.2960</td>\n",
       "      <td>124</td>\n",
       "      <td>8</td>\n",
       "      <td>0</td>\n",
       "      <td>0</td>\n",
       "      <td>Closed with explanation</td>\n",
       "      <td>0</td>\n",
       "    </tr>\n",
       "    <tr>\n",
       "      <th>1</th>\n",
       "      <td>1535563</td>\n",
       "      <td>-0.1756</td>\n",
       "      <td>-0.087800</td>\n",
       "      <td>0.500000</td>\n",
       "      <td>-0.5574</td>\n",
       "      <td>55</td>\n",
       "      <td>2</td>\n",
       "      <td>0</td>\n",
       "      <td>0</td>\n",
       "      <td>Closed with explanation</td>\n",
       "      <td>0</td>\n",
       "    </tr>\n",
       "    <tr>\n",
       "      <th>2</th>\n",
       "      <td>1535476</td>\n",
       "      <td>-0.0298</td>\n",
       "      <td>-0.001568</td>\n",
       "      <td>0.315789</td>\n",
       "      <td>-0.5859</td>\n",
       "      <td>422</td>\n",
       "      <td>19</td>\n",
       "      <td>0</td>\n",
       "      <td>4</td>\n",
       "      <td>Closed with explanation</td>\n",
       "      <td>0</td>\n",
       "    </tr>\n",
       "    <tr>\n",
       "      <th>3</th>\n",
       "      <td>1534483</td>\n",
       "      <td>0.1318</td>\n",
       "      <td>0.018829</td>\n",
       "      <td>0.142857</td>\n",
       "      <td>-0.2500</td>\n",
       "      <td>123</td>\n",
       "      <td>7</td>\n",
       "      <td>0</td>\n",
       "      <td>0</td>\n",
       "      <td>Closed with non-monetary relief</td>\n",
       "      <td>0</td>\n",
       "    </tr>\n",
       "    <tr>\n",
       "      <th>4</th>\n",
       "      <td>1535621</td>\n",
       "      <td>1.1912</td>\n",
       "      <td>0.170171</td>\n",
       "      <td>0.142857</td>\n",
       "      <td>-0.1280</td>\n",
       "      <td>184</td>\n",
       "      <td>7</td>\n",
       "      <td>0</td>\n",
       "      <td>0</td>\n",
       "      <td>Closed with explanation</td>\n",
       "      <td>0</td>\n",
       "    </tr>\n",
       "  </tbody>\n",
       "</table>\n",
       "</div>"
      ],
      "text/plain": [
       "   Complaint ID  corpus_score_sum  corpus_score_ave  negative_ratio  \\\n",
       "0       1535719           -0.7086         -0.088575        0.500000   \n",
       "1       1535563           -0.1756         -0.087800        0.500000   \n",
       "2       1535476           -0.0298         -0.001568        0.315789   \n",
       "3       1534483            0.1318          0.018829        0.142857   \n",
       "4       1535621            1.1912          0.170171        0.142857   \n",
       "\n",
       "   most_negative_score  word_num  sentence_num  num_of_question_mark  \\\n",
       "0              -0.2960       124             8                     0   \n",
       "1              -0.5574        55             2                     0   \n",
       "2              -0.5859       422            19                     0   \n",
       "3              -0.2500       123             7                     0   \n",
       "4              -0.1280       184             7                     0   \n",
       "\n",
       "   num_of_exclaimation_mark                 company_response  dispute  \n",
       "0                         0          Closed with explanation        0  \n",
       "1                         0          Closed with explanation        0  \n",
       "2                         4          Closed with explanation        0  \n",
       "3                         0  Closed with non-monetary relief        0  \n",
       "4                         0          Closed with explanation        0  "
      ]
     },
     "execution_count": 30,
     "metadata": {},
     "output_type": "execute_result"
    }
   ],
   "source": [
    "sentiment_metrics = sentiment.loc[:, ['Complaint ID',\n",
    "       'corpus_score_sum', 'corpus_score_ave', 'negative_ratio',\n",
    "       'most_negative_score', 'word_num', 'sentence_num',\n",
    "       'num_of_question_mark', 'num_of_exclaimation_mark', 'company_response',\n",
    "       'dispute']]\n",
    "sentiment_metrics.head()"
   ]
  },
  {
   "cell_type": "code",
   "execution_count": 31,
   "metadata": {},
   "outputs": [
    {
     "name": "stdout",
     "output_type": "stream",
     "text": [
      "Ratio of dispute / no_dispute is  0.2815129354407486\n"
     ]
    }
   ],
   "source": [
    "dispute_group = sentiment_metrics[sentiment_metrics[\"dispute\"] == 1]\n",
    "no_dispute_group = sentiment_metrics[sentiment_metrics[\"dispute\"] == 0]\n",
    "print(\"Ratio of dispute / no_dispute is \", len(dispute_group) / len(no_dispute_group))"
   ]
  },
  {
   "cell_type": "markdown",
   "metadata": {},
   "source": [
    "#### Draw distribution and run T-test on each metric column between dispute group and non-dispute group"
   ]
  },
  {
   "cell_type": "code",
   "execution_count": 36,
   "metadata": {},
   "outputs": [],
   "source": [
    "from scipy import stats\n",
    "def plot_distribution(column_name):\n",
    "    plt.figure()\n",
    "    #no_dispute_group[column_name].plot.hist(bins=25, alpha = 0.5)\n",
    "    #dispute_group[column_name].plot.hist(bins = 25, stacked = True)\n",
    "    sentiment_metrics.boxplot(by=\"dispute\", column=[column_name])\n",
    "    #no_dispute_group[column_name].plot.box()\n",
    "    #dispute_group[column_name].plot.box(stacked = True)\n",
    "    plt.xlabel(column_name)\n",
    "    plt.show()\n",
    "    \n",
    "    # run t-test\n",
    "    ttest = stats.ttest_ind(no_dispute_group[column_name], dispute_group[column_name])\n",
    "    print(ttest)"
   ]
  },
  {
   "cell_type": "code",
   "execution_count": 33,
   "metadata": {},
   "outputs": [
    {
     "name": "stdout",
     "output_type": "stream",
     "text": [
      "['Complaint ID', 'corpus_score_sum', 'corpus_score_ave', 'negative_ratio', 'most_negative_score', 'word_num', 'sentence_num', 'num_of_question_mark', 'num_of_exclaimation_mark', 'company_response', 'dispute']\n"
     ]
    }
   ],
   "source": [
    "columns = list(sentiment_metrics.columns)\n",
    "print(columns)"
   ]
  },
  {
   "cell_type": "code",
   "execution_count": 34,
   "metadata": {},
   "outputs": [],
   "source": [
    "for x in [\"Complaint ID\", \"company_response\", \"dispute\"]:\n",
    "    columns.remove(x) "
   ]
  },
  {
   "cell_type": "code",
   "execution_count": 37,
   "metadata": {},
   "outputs": [
    {
     "name": "stdout",
     "output_type": "stream",
     "text": [
      "distribution of  corpus_score_sum\n"
     ]
    },
    {
     "data": {
      "text/plain": [
       "<Figure size 432x288 with 0 Axes>"
      ]
     },
     "metadata": {},
     "output_type": "display_data"
    },
    {
     "data": {
      "image/png": "[encoded data removed]",
      "text/plain": [
       "<Figure size 432x288 with 1 Axes>"
      ]
     },
     "metadata": {
      "needs_background": "light"
     },
     "output_type": "display_data"
    },
    {
     "name": "stdout",
     "output_type": "stream",
     "text": [
      "Ttest_indResult(statistic=7.021867343722565, pvalue=2.1977312189594587e-12)\n",
      "distribution of  corpus_score_ave\n"
     ]
    },
    {
     "data": {
      "text/plain": [
       "<Figure size 432x288 with 0 Axes>"
      ]
     },
     "metadata": {},
     "output_type": "display_data"
    },
    {
     "data": {
      "image/png": "[encoded data removed]",
      "text/plain": [
       "<Figure size 432x288 with 1 Axes>"
      ]
     },
     "metadata": {
      "needs_background": "light"
     },
     "output_type": "display_data"
    },
    {
     "name": "stdout",
     "output_type": "stream",
     "text": [
      "Ttest_indResult(statistic=7.086952972487009, pvalue=1.3764940860664484e-12)\n",
      "distribution of  negative_ratio\n"
     ]
    },
    {
     "data": {
      "text/plain": [
       "<Figure size 432x288 with 0 Axes>"
      ]
     },
     "metadata": {},
     "output_type": "display_data"
    },
    {
     "data": {
      "image/png": "[encoded data removed]",
      "text/plain": [
       "<Figure size 432x288 with 1 Axes>"
      ]
     },
     "metadata": {
      "needs_background": "light"
     },
     "output_type": "display_data"
    },
    {
     "name": "stdout",
     "output_type": "stream",
     "text": [
      "Ttest_indResult(statistic=-10.882340833788856, pvalue=1.4301602918979648e-27)\n",
      "distribution of  most_negative_score\n"
     ]
    },
    {
     "data": {
      "text/plain": [
       "<Figure size 432x288 with 0 Axes>"
      ]
     },
     "metadata": {},
     "output_type": "display_data"
    },
    {
     "data": {
      "image/png": "[encoded data removed]",
      "text/plain": [
       "<Figure size 432x288 with 1 Axes>"
      ]
     },
     "metadata": {
      "needs_background": "light"
     },
     "output_type": "display_data"
    },
    {
     "name": "stdout",
     "output_type": "stream",
     "text": [
      "Ttest_indResult(statistic=28.709766798409873, pvalue=8.162426226324658e-181)\n",
      "distribution of  word_num\n"
     ]
    },
    {
     "data": {
      "text/plain": [
       "<Figure size 432x288 with 0 Axes>"
      ]
     },
     "metadata": {},
     "output_type": "display_data"
    },
    {
     "data": {
      "image/png": "[encoded data removed]",
      "text/plain": [
       "<Figure size 432x288 with 1 Axes>"
      ]
     },
     "metadata": {
      "needs_background": "light"
     },
     "output_type": "display_data"
    },
    {
     "name": "stdout",
     "output_type": "stream",
     "text": [
      "Ttest_indResult(statistic=-38.252410291234, pvalue=0.0)\n",
      "distribution of  sentence_num\n"
     ]
    },
    {
     "data": {
      "text/plain": [
       "<Figure size 432x288 with 0 Axes>"
      ]
     },
     "metadata": {},
     "output_type": "display_data"
    },
    {
     "data": {
      "image/png": "[encoded data removed]",
      "text/plain": [
       "<Figure size 432x288 with 1 Axes>"
      ]
     },
     "metadata": {
      "needs_background": "light"
     },
     "output_type": "display_data"
    },
    {
     "name": "stdout",
     "output_type": "stream",
     "text": [
      "Ttest_indResult(statistic=-32.019202702493025, pvalue=2.945029749374185e-224)\n",
      "distribution of  num_of_question_mark\n"
     ]
    },
    {
     "data": {
      "text/plain": [
       "<Figure size 432x288 with 0 Axes>"
      ]
     },
     "metadata": {},
     "output_type": "display_data"
    },
    {
     "data": {
      "image/png": "[encoded data removed]",
      "text/plain": [
       "<Figure size 432x288 with 1 Axes>"
      ]
     },
     "metadata": {
      "needs_background": "light"
     },
     "output_type": "display_data"
    },
    {
     "name": "stdout",
     "output_type": "stream",
     "text": [
      "Ttest_indResult(statistic=-9.97960556543321, pvalue=1.9013641335987864e-23)\n",
      "distribution of  num_of_exclaimation_mark\n"
     ]
    },
    {
     "data": {
      "text/plain": [
       "<Figure size 432x288 with 0 Axes>"
      ]
     },
     "metadata": {},
     "output_type": "display_data"
    },
    {
     "data": {
      "image/png": "[encoded data removed]",
      "text/plain": [
       "<Figure size 432x288 with 1 Axes>"
      ]
     },
     "metadata": {
      "needs_background": "light"
     },
     "output_type": "display_data"
    },
    {
     "name": "stdout",
     "output_type": "stream",
     "text": [
      "Ttest_indResult(statistic=-6.013233002952856, pvalue=1.822444048320951e-09)\n"
     ]
    }
   ],
   "source": [
    "for name in columns:\n",
    "    print(\"distribution of \", name)\n",
    "    plot_distribution(name)"
   ]
  },
  {
   "cell_type": "markdown",
   "metadata": {},
   "source": [
    "#### Correlation among sentiment metrics and with dispute"
   ]
  },
  {
   "cell_type": "code",
   "execution_count": 38,
   "metadata": {},
   "outputs": [
    {
     "data": {
      "text/html": [
       "<div>\n",
       "<style scoped>\n",
       "    .dataframe tbody tr th:only-of-type {\n",
       "        vertical-align: middle;\n",
       "    }\n",
       "\n",
       "    .dataframe tbody tr th {\n",
       "        vertical-align: top;\n",
       "    }\n",
       "\n",
       "    .dataframe thead th {\n",
       "        text-align: right;\n",
       "    }\n",
       "</style>\n",
       "<table border=\"1\" class=\"dataframe\">\n",
       "  <thead>\n",
       "    <tr style=\"text-align: right;\">\n",
       "      <th></th>\n",
       "      <th>Complaint ID</th>\n",
       "      <th>corpus_score_sum</th>\n",
       "      <th>corpus_score_ave</th>\n",
       "      <th>negative_ratio</th>\n",
       "      <th>most_negative_score</th>\n",
       "      <th>word_num</th>\n",
       "      <th>sentence_num</th>\n",
       "      <th>num_of_question_mark</th>\n",
       "      <th>num_of_exclaimation_mark</th>\n",
       "      <th>dispute</th>\n",
       "    </tr>\n",
       "  </thead>\n",
       "  <tbody>\n",
       "    <tr>\n",
       "      <th>Complaint ID</th>\n",
       "      <td>1.000000</td>\n",
       "      <td>0.008396</td>\n",
       "      <td>0.012450</td>\n",
       "      <td>-0.004278</td>\n",
       "      <td>0.016016</td>\n",
       "      <td>-0.011666</td>\n",
       "      <td>-0.013638</td>\n",
       "      <td>-0.008361</td>\n",
       "      <td>-0.009411</td>\n",
       "      <td>-0.053100</td>\n",
       "    </tr>\n",
       "    <tr>\n",
       "      <th>corpus_score_sum</th>\n",
       "      <td>0.008396</td>\n",
       "      <td>1.000000</td>\n",
       "      <td>0.658390</td>\n",
       "      <td>-0.532868</td>\n",
       "      <td>0.451992</td>\n",
       "      <td>-0.031374</td>\n",
       "      <td>-0.040222</td>\n",
       "      <td>0.014540</td>\n",
       "      <td>-0.015870</td>\n",
       "      <td>-0.017391</td>\n",
       "    </tr>\n",
       "    <tr>\n",
       "      <th>corpus_score_ave</th>\n",
       "      <td>0.012450</td>\n",
       "      <td>0.658390</td>\n",
       "      <td>1.000000</td>\n",
       "      <td>-0.801126</td>\n",
       "      <td>0.579473</td>\n",
       "      <td>0.015689</td>\n",
       "      <td>0.016607</td>\n",
       "      <td>0.016767</td>\n",
       "      <td>0.002761</td>\n",
       "      <td>-0.017553</td>\n",
       "    </tr>\n",
       "    <tr>\n",
       "      <th>negative_ratio</th>\n",
       "      <td>-0.004278</td>\n",
       "      <td>-0.532868</td>\n",
       "      <td>-0.801126</td>\n",
       "      <td>1.000000</td>\n",
       "      <td>-0.541554</td>\n",
       "      <td>-0.028592</td>\n",
       "      <td>-0.083288</td>\n",
       "      <td>-0.036161</td>\n",
       "      <td>-0.023982</td>\n",
       "      <td>0.026947</td>\n",
       "    </tr>\n",
       "    <tr>\n",
       "      <th>most_negative_score</th>\n",
       "      <td>0.016016</td>\n",
       "      <td>0.451992</td>\n",
       "      <td>0.579473</td>\n",
       "      <td>-0.541554</td>\n",
       "      <td>1.000000</td>\n",
       "      <td>-0.461352</td>\n",
       "      <td>-0.429284</td>\n",
       "      <td>-0.091578</td>\n",
       "      <td>-0.120626</td>\n",
       "      <td>-0.070939</td>\n",
       "    </tr>\n",
       "    <tr>\n",
       "      <th>word_num</th>\n",
       "      <td>-0.011666</td>\n",
       "      <td>-0.031374</td>\n",
       "      <td>0.015689</td>\n",
       "      <td>-0.028592</td>\n",
       "      <td>-0.461352</td>\n",
       "      <td>1.000000</td>\n",
       "      <td>0.904647</td>\n",
       "      <td>0.216921</td>\n",
       "      <td>0.212536</td>\n",
       "      <td>0.094334</td>\n",
       "    </tr>\n",
       "    <tr>\n",
       "      <th>sentence_num</th>\n",
       "      <td>-0.013638</td>\n",
       "      <td>-0.040222</td>\n",
       "      <td>0.016607</td>\n",
       "      <td>-0.083288</td>\n",
       "      <td>-0.429284</td>\n",
       "      <td>0.904647</td>\n",
       "      <td>1.000000</td>\n",
       "      <td>0.249773</td>\n",
       "      <td>0.241229</td>\n",
       "      <td>0.079067</td>\n",
       "    </tr>\n",
       "    <tr>\n",
       "      <th>num_of_question_mark</th>\n",
       "      <td>-0.008361</td>\n",
       "      <td>0.014540</td>\n",
       "      <td>0.016767</td>\n",
       "      <td>-0.036161</td>\n",
       "      <td>-0.091578</td>\n",
       "      <td>0.216921</td>\n",
       "      <td>0.249773</td>\n",
       "      <td>1.000000</td>\n",
       "      <td>0.620769</td>\n",
       "      <td>0.024713</td>\n",
       "    </tr>\n",
       "    <tr>\n",
       "      <th>num_of_exclaimation_mark</th>\n",
       "      <td>-0.009411</td>\n",
       "      <td>-0.015870</td>\n",
       "      <td>0.002761</td>\n",
       "      <td>-0.023982</td>\n",
       "      <td>-0.120626</td>\n",
       "      <td>0.212536</td>\n",
       "      <td>0.241229</td>\n",
       "      <td>0.620769</td>\n",
       "      <td>1.000000</td>\n",
       "      <td>0.014894</td>\n",
       "    </tr>\n",
       "    <tr>\n",
       "      <th>dispute</th>\n",
       "      <td>-0.053100</td>\n",
       "      <td>-0.017391</td>\n",
       "      <td>-0.017553</td>\n",
       "      <td>0.026947</td>\n",
       "      <td>-0.070939</td>\n",
       "      <td>0.094334</td>\n",
       "      <td>0.079067</td>\n",
       "      <td>0.024713</td>\n",
       "      <td>0.014894</td>\n",
       "      <td>1.000000</td>\n",
       "    </tr>\n",
       "  </tbody>\n",
       "</table>\n",
       "</div>"
      ],
      "text/plain": [
       "                          Complaint ID  corpus_score_sum  corpus_score_ave  \\\n",
       "Complaint ID                  1.000000          0.008396          0.012450   \n",
       "corpus_score_sum              0.008396          1.000000          0.658390   \n",
       "corpus_score_ave              0.012450          0.658390          1.000000   \n",
       "negative_ratio               -0.004278         -0.532868         -0.801126   \n",
       "most_negative_score           0.016016          0.451992          0.579473   \n",
       "word_num                     -0.011666         -0.031374          0.015689   \n",
       "sentence_num                 -0.013638         -0.040222          0.016607   \n",
       "num_of_question_mark         -0.008361          0.014540          0.016767   \n",
       "num_of_exclaimation_mark     -0.009411         -0.015870          0.002761   \n",
       "dispute                      -0.053100         -0.017391         -0.017553   \n",
       "\n",
       "                          negative_ratio  most_negative_score  word_num  \\\n",
       "Complaint ID                   -0.004278             0.016016 -0.011666   \n",
       "corpus_score_sum               -0.532868             0.451992 -0.031374   \n",
       "corpus_score_ave               -0.801126             0.579473  0.015689   \n",
       "negative_ratio                  1.000000            -0.541554 -0.028592   \n",
       "most_negative_score            -0.541554             1.000000 -0.461352   \n",
       "word_num                       -0.028592            -0.461352  1.000000   \n",
       "sentence_num                   -0.083288            -0.429284  0.904647   \n",
       "num_of_question_mark           -0.036161            -0.091578  0.216921   \n",
       "num_of_exclaimation_mark       -0.023982            -0.120626  0.212536   \n",
       "dispute                         0.026947            -0.070939  0.094334   \n",
       "\n",
       "                          sentence_num  num_of_question_mark  \\\n",
       "Complaint ID                 -0.013638             -0.008361   \n",
       "corpus_score_sum             -0.040222              0.014540   \n",
       "corpus_score_ave              0.016607              0.016767   \n",
       "negative_ratio               -0.083288             -0.036161   \n",
       "most_negative_score          -0.429284             -0.091578   \n",
       "word_num                      0.904647              0.216921   \n",
       "sentence_num                  1.000000              0.249773   \n",
       "num_of_question_mark          0.249773              1.000000   \n",
       "num_of_exclaimation_mark      0.241229              0.620769   \n",
       "dispute                       0.079067              0.024713   \n",
       "\n",
       "                          num_of_exclaimation_mark   dispute  \n",
       "Complaint ID                             -0.009411 -0.053100  \n",
       "corpus_score_sum                         -0.015870 -0.017391  \n",
       "corpus_score_ave                          0.002761 -0.017553  \n",
       "negative_ratio                           -0.023982  0.026947  \n",
       "most_negative_score                      -0.120626 -0.070939  \n",
       "word_num                                  0.212536  0.094334  \n",
       "sentence_num                              0.241229  0.079067  \n",
       "num_of_question_mark                      0.620769  0.024713  \n",
       "num_of_exclaimation_mark                  1.000000  0.014894  \n",
       "dispute                                   0.014894  1.000000  "
      ]
     },
     "execution_count": 38,
     "metadata": {},
     "output_type": "execute_result"
    }
   ],
   "source": [
    "sentiment_metrics.corr()"
   ]
  },
  {
   "cell_type": "code",
   "execution_count": 40,
   "metadata": {},
   "outputs": [
    {
     "data": {
      "text/plain": [
       "<matplotlib.axes._subplots.AxesSubplot at 0x1ab5b95d68>"
      ]
     },
     "execution_count": 40,
     "metadata": {},
     "output_type": "execute_result"
    },
    {
     "data": {
      "image/png": "[encoded data removed]",
      "text/plain": [
       "<Figure size 432x288 with 2 Axes>"
      ]
     },
     "metadata": {
      "needs_background": "light"
     },
     "output_type": "display_data"
    }
   ],
   "source": [
    "import seaborn as sns\n",
    "correlation = sentiment_metrics.iloc[:, 2:].corr()\n",
    "sns.heatmap(correlation, square=True)"
   ]
  },
  {
   "cell_type": "markdown",
   "metadata": {},
   "source": [
    "word_num and sentence_num are quite correlated, keep one.  negative_ratio and corpus_score_ave are also highly correlated. "
   ]
  }
 ],
 "metadata": {
  "kernelspec": {
   "display_name": "Python 3",
   "language": "python",
   "name": "python3"
  },
  "language_info": {
   "codemirror_mode": {
    "name": "ipython",
    "version": 3
   },
   "file_extension": ".py",
   "mimetype": "text/x-python",
   "name": "python",
   "nbconvert_exporter": "python",
   "pygments_lexer": "ipython3",
   "version": "3.7.3"
  }
 },
 "nbformat": 4,
 "nbformat_minor": 2
}
