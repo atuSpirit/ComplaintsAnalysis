{
 "cells": [
  {
   "cell_type": "code",
   "execution_count": 1,
   "metadata": {},
   "outputs": [],
   "source": [
    "import pandas as pd\n",
    "import numpy as np\n",
    "from Utilities import load_model"
   ]
  },
  {
   "cell_type": "code",
   "execution_count": 33,
   "metadata": {},
   "outputs": [],
   "source": [
    "import matplotlib.pyplot as plt"
   ]
  },
  {
   "cell_type": "code",
   "execution_count": 5,
   "metadata": {},
   "outputs": [],
   "source": [
    "tf_idf_vectorizer = load_model(\"trained_models/tfidf_vectorizer_max50000.all.L1.joblib\")\n",
    "lgrg_L1 = load_model(\"trained_models/lgreg.all.L1.C0.1.joblib\")"
   ]
  },
  {
   "cell_type": "markdown",
   "metadata": {},
   "source": [
    "### Check for important features in logistic regression"
   ]
  },
  {
   "cell_type": "code",
   "execution_count": 6,
   "metadata": {},
   "outputs": [],
   "source": [
    "tfidf_feature_names = tf_idf_vectorizer.get_feature_names()\n",
    "sentiment_metric_names = [\"corpus_score_sum\", \"corpus_score_ave\", \"negative_ratio\", \"most_negative_score\", \"word_num\", \"sentence_num\", \"num_of_question_mark\", \"num_of_exclaimation_mark\"]\n",
    "company_response_type = [\"company_response_Closed\", \"company_response_Closed with explanation\", \"company_response_Closed with monetary relief\", \"company_response_Closed with non-monetary relief\"]\n"
   ]
  },
  {
   "cell_type": "code",
   "execution_count": 32,
   "metadata": {},
   "outputs": [
    {
     "data": {
      "text/plain": [
       "array([0.])"
      ]
     },
     "execution_count": 32,
     "metadata": {},
     "output_type": "execute_result"
    }
   ],
   "source": [
    "lgrg_L1.coef_.T[1]"
   ]
  },
  {
   "cell_type": "code",
   "execution_count": 67,
   "metadata": {},
   "outputs": [],
   "source": [
    "def get_nonzero_coef_names(lgrg_model, tfid_feature_names, sentiment_metric_names, company_response_type):\n",
    "    \"\"\"Get the feature names where logistic regression coefs are not zero\"\"\"\n",
    "    nonzero_coefs = []\n",
    "    abs_nonzero_coefs = []\n",
    "    indexes = []\n",
    "    feature_names = []\n",
    "    for i in np.arange(len(lgrg_L1.coef_.T)):\n",
    "        coef = lgrg_L1.coef_.T[i][0]\n",
    "        \n",
    "        if abs(coef) > 1e-8:\n",
    "            nonzero_coefs.append(coef)\n",
    "            abs_nonzero_coefs.append(abs(coef))\n",
    "            indexes.append(i)\n",
    "            if i < len(tfid_feature_names):\n",
    "                feature_names.append(tfid_feature_names[i])\n",
    "            elif i < (len(tfid_feature_names) + len(sentiment_metric_names)):\n",
    "                feature_names.append(sentiment_metric_names[i - len(tfid_feature_names)])\n",
    "            else:\n",
    "                feature_names.append(company_response_type[i - len(sentiment_metric_names) - len(tfid_feature_names)])\n",
    "                \n",
    "    df = pd.DataFrame()\n",
    "    df[\"index\"] = indexes\n",
    "    df[\"nonzero_coef\"] = nonzero_coefs\n",
    "    df[\"nonzero_abs_coef\"] = abs_nonzero_coefs\n",
    "    df[\"feature_names\"] = feature_names\n",
    "    \n",
    "    return df\n",
    "                "
   ]
  },
  {
   "cell_type": "code",
   "execution_count": 68,
   "metadata": {},
   "outputs": [],
   "source": [
    "important_features = get_nonzero_coef_names(lgrg_L1,\n",
    "                                            tfidf_feature_names,\n",
    "                                            sentiment_metric_names,\n",
    "                                            company_response_type)"
   ]
  },
  {
   "cell_type": "code",
   "execution_count": 69,
   "metadata": {},
   "outputs": [
    {
     "data": {
      "text/plain": [
       "310"
      ]
     },
     "execution_count": 69,
     "metadata": {},
     "output_type": "execute_result"
    }
   ],
   "source": [
    "len(important_features)"
   ]
  },
  {
   "cell_type": "code",
   "execution_count": 87,
   "metadata": {},
   "outputs": [],
   "source": [
    "sorted_important_features = important_features.sort_values(by=[\"nonzero_abs_coef\"], ascending=False)"
   ]
  },
  {
   "cell_type": "code",
   "execution_count": 90,
   "metadata": {},
   "outputs": [
    {
     "data": {
      "text/html": [
       "<div>\n",
       "<style scoped>\n",
       "    .dataframe tbody tr th:only-of-type {\n",
       "        vertical-align: middle;\n",
       "    }\n",
       "\n",
       "    .dataframe tbody tr th {\n",
       "        vertical-align: top;\n",
       "    }\n",
       "\n",
       "    .dataframe thead th {\n",
       "        text-align: right;\n",
       "    }\n",
       "</style>\n",
       "<table border=\"1\" class=\"dataframe\">\n",
       "  <thead>\n",
       "    <tr style=\"text-align: right;\">\n",
       "      <th></th>\n",
       "      <th>index</th>\n",
       "      <th>nonzero_coef</th>\n",
       "      <th>nonzero_abs_coef</th>\n",
       "      <th>feature_names</th>\n",
       "    </tr>\n",
       "  </thead>\n",
       "  <tbody>\n",
       "    <tr>\n",
       "      <th>267</th>\n",
       "      <td>44887</td>\n",
       "      <td>7.232970</td>\n",
       "      <td>7.232970</td>\n",
       "      <td>tcpa</td>\n",
       "    </tr>\n",
       "    <tr>\n",
       "      <th>245</th>\n",
       "      <td>41143</td>\n",
       "      <td>3.736539</td>\n",
       "      <td>3.736539</td>\n",
       "      <td>scottrade</td>\n",
       "    </tr>\n",
       "    <tr>\n",
       "      <th>18</th>\n",
       "      <td>2712</td>\n",
       "      <td>3.416254</td>\n",
       "      <td>3.416254</td>\n",
       "      <td>american express</td>\n",
       "    </tr>\n",
       "    <tr>\n",
       "      <th>102</th>\n",
       "      <td>15883</td>\n",
       "      <td>2.989087</td>\n",
       "      <td>2.989087</td>\n",
       "      <td>equifax</td>\n",
       "    </tr>\n",
       "    <tr>\n",
       "      <th>270</th>\n",
       "      <td>45104</td>\n",
       "      <td>-2.833702</td>\n",
       "      <td>2.833702</td>\n",
       "      <td>thank</td>\n",
       "    </tr>\n",
       "    <tr>\n",
       "      <th>27</th>\n",
       "      <td>3739</td>\n",
       "      <td>2.324839</td>\n",
       "      <td>2.324839</td>\n",
       "      <td>attached</td>\n",
       "    </tr>\n",
       "    <tr>\n",
       "      <th>194</th>\n",
       "      <td>32645</td>\n",
       "      <td>-2.195305</td>\n",
       "      <td>2.195305</td>\n",
       "      <td>payday</td>\n",
       "    </tr>\n",
       "    <tr>\n",
       "      <th>110</th>\n",
       "      <td>16688</td>\n",
       "      <td>2.187422</td>\n",
       "      <td>2.187422</td>\n",
       "      <td>failed</td>\n",
       "    </tr>\n",
       "    <tr>\n",
       "      <th>222</th>\n",
       "      <td>37498</td>\n",
       "      <td>2.123806</td>\n",
       "      <td>2.123806</td>\n",
       "      <td>refuse</td>\n",
       "    </tr>\n",
       "    <tr>\n",
       "      <th>49</th>\n",
       "      <td>7282</td>\n",
       "      <td>2.055631</td>\n",
       "      <td>2.055631</td>\n",
       "      <td>cfpb</td>\n",
       "    </tr>\n",
       "    <tr>\n",
       "      <th>111</th>\n",
       "      <td>16799</td>\n",
       "      <td>1.999381</td>\n",
       "      <td>1.999381</td>\n",
       "      <td>false</td>\n",
       "    </tr>\n",
       "    <tr>\n",
       "      <th>232</th>\n",
       "      <td>39280</td>\n",
       "      <td>-1.911323</td>\n",
       "      <td>1.911323</td>\n",
       "      <td>request investigate</td>\n",
       "    </tr>\n",
       "    <tr>\n",
       "      <th>139</th>\n",
       "      <td>20736</td>\n",
       "      <td>1.848396</td>\n",
       "      <td>1.848396</td>\n",
       "      <td>illegal</td>\n",
       "    </tr>\n",
       "    <tr>\n",
       "      <th>96</th>\n",
       "      <td>14516</td>\n",
       "      <td>1.828917</td>\n",
       "      <td>1.828917</td>\n",
       "      <td>discover</td>\n",
       "    </tr>\n",
       "    <tr>\n",
       "      <th>291</th>\n",
       "      <td>48291</td>\n",
       "      <td>1.809327</td>\n",
       "      <td>1.809327</td>\n",
       "      <td>violated</td>\n",
       "    </tr>\n",
       "    <tr>\n",
       "      <th>53</th>\n",
       "      <td>7735</td>\n",
       "      <td>1.803760</td>\n",
       "      <td>1.803760</td>\n",
       "      <td>chase</td>\n",
       "    </tr>\n",
       "    <tr>\n",
       "      <th>138</th>\n",
       "      <td>20579</td>\n",
       "      <td>-1.757667</td>\n",
       "      <td>1.757667</td>\n",
       "      <td>husband</td>\n",
       "    </tr>\n",
       "    <tr>\n",
       "      <th>223</th>\n",
       "      <td>37551</td>\n",
       "      <td>1.742846</td>\n",
       "      <td>1.742846</td>\n",
       "      <td>refused</td>\n",
       "    </tr>\n",
       "    <tr>\n",
       "      <th>95</th>\n",
       "      <td>14493</td>\n",
       "      <td>1.686402</td>\n",
       "      <td>1.686402</td>\n",
       "      <td>disclosure</td>\n",
       "    </tr>\n",
       "    <tr>\n",
       "      <th>147</th>\n",
       "      <td>21864</td>\n",
       "      <td>1.684566</td>\n",
       "      <td>1.684566</td>\n",
       "      <td>inquiry</td>\n",
       "    </tr>\n",
       "  </tbody>\n",
       "</table>\n",
       "</div>"
      ],
      "text/plain": [
       "     index  nonzero_coef  nonzero_abs_coef        feature_names\n",
       "267  44887      7.232970          7.232970                 tcpa\n",
       "245  41143      3.736539          3.736539            scottrade\n",
       "18    2712      3.416254          3.416254     american express\n",
       "102  15883      2.989087          2.989087              equifax\n",
       "270  45104     -2.833702          2.833702                thank\n",
       "27    3739      2.324839          2.324839             attached\n",
       "194  32645     -2.195305          2.195305               payday\n",
       "110  16688      2.187422          2.187422               failed\n",
       "222  37498      2.123806          2.123806               refuse\n",
       "49    7282      2.055631          2.055631                 cfpb\n",
       "111  16799      1.999381          1.999381                false\n",
       "232  39280     -1.911323          1.911323  request investigate\n",
       "139  20736      1.848396          1.848396              illegal\n",
       "96   14516      1.828917          1.828917             discover\n",
       "291  48291      1.809327          1.809327             violated\n",
       "53    7735      1.803760          1.803760                chase\n",
       "138  20579     -1.757667          1.757667              husband\n",
       "223  37551      1.742846          1.742846              refused\n",
       "95   14493      1.686402          1.686402           disclosure\n",
       "147  21864      1.684566          1.684566              inquiry"
      ]
     },
     "execution_count": 90,
     "metadata": {},
     "output_type": "execute_result"
    }
   ],
   "source": [
    "sorted_important_features[:20]"
   ]
  },
  {
   "cell_type": "markdown",
   "metadata": {},
   "source": [
    "### Interesting part of these important features. \n",
    "\n",
    "- tcpa is \"(Telephone Consumer Protection Act) is a federal statute enacted in 1991 designed to safeguard consumer privacy.\"\n",
    "- american express is the company with highest dispute rate in the EDA result\n",
    "- equifax is the company with top 3 complaint number but lowest dispute ratio among top 20 companies\n",
    "- words like failed, illege, violated, refused, fraud make sense to contribute to whether escalate or not\n"
   ]
  },
  {
   "cell_type": "code",
   "execution_count": 71,
   "metadata": {},
   "outputs": [
    {
     "data": {
      "text/plain": [
       "(array([  3.,  24., 138., 112.,  28.,   2.,   2.,   0.,   0.,   1.]),\n",
       " array([-2.83370184, -1.82703462, -0.8203674 ,  0.18629982,  1.19296703,\n",
       "         2.19963425,  3.20630147,  4.21296869,  5.21963591,  6.22630313,\n",
       "         7.23297034]),\n",
       " <a list of 10 Patch objects>)"
      ]
     },
     "execution_count": 71,
     "metadata": {},
     "output_type": "execute_result"
    },
    {
     "data": {
      "image/png": "[encoded data removed]",
      "text/plain": [
       "<Figure size 432x288 with 1 Axes>"
      ]
     },
     "metadata": {
      "needs_background": "light"
     },
     "output_type": "display_data"
    }
   ],
   "source": [
    "plt.hist(important_features[\"nonzero_coef\"])"
   ]
  },
  {
   "cell_type": "markdown",
   "metadata": {},
   "source": [
    "### Check important feature in Logistic regression L2"
   ]
  },
  {
   "cell_type": "code",
   "execution_count": 55,
   "metadata": {},
   "outputs": [],
   "source": [
    "lgrg = load_model(\"trained_models/lgreg.all.joblib\")\n",
    "tfidf = load_model(\"trained_models/tfidf_vectorizer_max50000.all.joblib\")"
   ]
  },
  {
   "cell_type": "code",
   "execution_count": 59,
   "metadata": {},
   "outputs": [],
   "source": [
    "tfidf_feature_names_L2 = tfidf.get_feature_names()"
   ]
  },
  {
   "cell_type": "code",
   "execution_count": 61,
   "metadata": {},
   "outputs": [],
   "source": [
    "coefs_L2 = get_nonzero_coef_names(lgrg, tfidf_feature_names_L2, sentiment_metric_names,company_response_type)"
   ]
  },
  {
   "cell_type": "code",
   "execution_count": 84,
   "metadata": {},
   "outputs": [],
   "source": [
    "coefs_L2_sorted = coefs_L2.sort_values(by=[\"nonzero_abs_coef\"], ascending=False)"
   ]
  },
  {
   "cell_type": "code",
   "execution_count": 85,
   "metadata": {},
   "outputs": [
    {
     "data": {
      "text/html": [
       "<div>\n",
       "<style scoped>\n",
       "    .dataframe tbody tr th:only-of-type {\n",
       "        vertical-align: middle;\n",
       "    }\n",
       "\n",
       "    .dataframe tbody tr th {\n",
       "        vertical-align: top;\n",
       "    }\n",
       "\n",
       "    .dataframe thead th {\n",
       "        text-align: right;\n",
       "    }\n",
       "</style>\n",
       "<table border=\"1\" class=\"dataframe\">\n",
       "  <thead>\n",
       "    <tr style=\"text-align: right;\">\n",
       "      <th></th>\n",
       "      <th>index</th>\n",
       "      <th>nonzero_coef</th>\n",
       "      <th>nonzero_abs_coef</th>\n",
       "      <th>feature_names</th>\n",
       "    </tr>\n",
       "  </thead>\n",
       "  <tbody>\n",
       "    <tr>\n",
       "      <th>44920</th>\n",
       "      <td>45104</td>\n",
       "      <td>-2.833702</td>\n",
       "      <td>2.833702</td>\n",
       "      <td>thank</td>\n",
       "    </tr>\n",
       "    <tr>\n",
       "      <th>32509</th>\n",
       "      <td>32645</td>\n",
       "      <td>-2.195305</td>\n",
       "      <td>2.195305</td>\n",
       "      <td>payday</td>\n",
       "    </tr>\n",
       "    <tr>\n",
       "      <th>39118</th>\n",
       "      <td>39280</td>\n",
       "      <td>-1.911323</td>\n",
       "      <td>1.911323</td>\n",
       "      <td>request investigate</td>\n",
       "    </tr>\n",
       "    <tr>\n",
       "      <th>20479</th>\n",
       "      <td>20579</td>\n",
       "      <td>-1.757667</td>\n",
       "      <td>1.757667</td>\n",
       "      <td>husband</td>\n",
       "    </tr>\n",
       "    <tr>\n",
       "      <th>44379</th>\n",
       "      <td>44560</td>\n",
       "      <td>-1.654418</td>\n",
       "      <td>1.654418</td>\n",
       "      <td>sure</td>\n",
       "    </tr>\n",
       "    <tr>\n",
       "      <th>19716</th>\n",
       "      <td>19814</td>\n",
       "      <td>-1.466951</td>\n",
       "      <td>1.466951</td>\n",
       "      <td>help</td>\n",
       "    </tr>\n",
       "    <tr>\n",
       "      <th>42854</th>\n",
       "      <td>43030</td>\n",
       "      <td>-1.445660</td>\n",
       "      <td>1.445660</td>\n",
       "      <td>speak</td>\n",
       "    </tr>\n",
       "    <tr>\n",
       "      <th>48709</th>\n",
       "      <td>48908</td>\n",
       "      <td>-1.414781</td>\n",
       "      <td>1.414781</td>\n",
       "      <td>went</td>\n",
       "    </tr>\n",
       "    <tr>\n",
       "      <th>40584</th>\n",
       "      <td>40750</td>\n",
       "      <td>-1.389766</td>\n",
       "      <td>1.389766</td>\n",
       "      <td>sale date</td>\n",
       "    </tr>\n",
       "    <tr>\n",
       "      <th>42623</th>\n",
       "      <td>42799</td>\n",
       "      <td>-1.382292</td>\n",
       "      <td>1.382292</td>\n",
       "      <td>situation</td>\n",
       "    </tr>\n",
       "    <tr>\n",
       "      <th>7996</th>\n",
       "      <td>8034</td>\n",
       "      <td>-1.290833</td>\n",
       "      <td>1.290833</td>\n",
       "      <td>checked</td>\n",
       "    </tr>\n",
       "    <tr>\n",
       "      <th>48612</th>\n",
       "      <td>48811</td>\n",
       "      <td>-1.195477</td>\n",
       "      <td>1.195477</td>\n",
       "      <td>week</td>\n",
       "    </tr>\n",
       "    <tr>\n",
       "      <th>5908</th>\n",
       "      <td>5936</td>\n",
       "      <td>-1.194205</td>\n",
       "      <td>1.194205</td>\n",
       "      <td>called</td>\n",
       "    </tr>\n",
       "    <tr>\n",
       "      <th>28266</th>\n",
       "      <td>28392</td>\n",
       "      <td>-1.124629</td>\n",
       "      <td>1.124629</td>\n",
       "      <td>never lived</td>\n",
       "    </tr>\n",
       "    <tr>\n",
       "      <th>38058</th>\n",
       "      <td>38217</td>\n",
       "      <td>-1.106379</td>\n",
       "      <td>1.106379</td>\n",
       "      <td>repay</td>\n",
       "    </tr>\n",
       "    <tr>\n",
       "      <th>49137</th>\n",
       "      <td>49337</td>\n",
       "      <td>-1.042227</td>\n",
       "      <td>1.042227</td>\n",
       "      <td>work</td>\n",
       "    </tr>\n",
       "    <tr>\n",
       "      <th>19988</th>\n",
       "      <td>20087</td>\n",
       "      <td>-1.022943</td>\n",
       "      <td>1.022943</td>\n",
       "      <td>hold</td>\n",
       "    </tr>\n",
       "    <tr>\n",
       "      <th>17299</th>\n",
       "      <td>17389</td>\n",
       "      <td>-0.998001</td>\n",
       "      <td>0.998001</td>\n",
       "      <td>feel</td>\n",
       "    </tr>\n",
       "    <tr>\n",
       "      <th>46666</th>\n",
       "      <td>46853</td>\n",
       "      <td>-0.970774</td>\n",
       "      <td>0.970774</td>\n",
       "      <td>transworld</td>\n",
       "    </tr>\n",
       "    <tr>\n",
       "      <th>12609</th>\n",
       "      <td>12674</td>\n",
       "      <td>-0.958296</td>\n",
       "      <td>0.958296</td>\n",
       "      <td>day</td>\n",
       "    </tr>\n",
       "  </tbody>\n",
       "</table>\n",
       "</div>"
      ],
      "text/plain": [
       "       index  nonzero_coef  nonzero_abs_coef        feature_names\n",
       "44920  45104     -2.833702          2.833702                thank\n",
       "32509  32645     -2.195305          2.195305               payday\n",
       "39118  39280     -1.911323          1.911323  request investigate\n",
       "20479  20579     -1.757667          1.757667              husband\n",
       "44379  44560     -1.654418          1.654418                 sure\n",
       "19716  19814     -1.466951          1.466951                 help\n",
       "42854  43030     -1.445660          1.445660                speak\n",
       "48709  48908     -1.414781          1.414781                 went\n",
       "40584  40750     -1.389766          1.389766            sale date\n",
       "42623  42799     -1.382292          1.382292            situation\n",
       "7996    8034     -1.290833          1.290833              checked\n",
       "48612  48811     -1.195477          1.195477                 week\n",
       "5908    5936     -1.194205          1.194205               called\n",
       "28266  28392     -1.124629          1.124629          never lived\n",
       "38058  38217     -1.106379          1.106379                repay\n",
       "49137  49337     -1.042227          1.042227                 work\n",
       "19988  20087     -1.022943          1.022943                 hold\n",
       "17299  17389     -0.998001          0.998001                 feel\n",
       "46666  46853     -0.970774          0.970774           transworld\n",
       "12609  12674     -0.958296          0.958296                  day"
      ]
     },
     "execution_count": 85,
     "metadata": {},
     "output_type": "execute_result"
    }
   ],
   "source": [
    "coefs_L2_sorted.head(20)"
   ]
  },
  {
   "cell_type": "markdown",
   "metadata": {},
   "source": [
    "### Check the feature names with highest tf-idf score"
   ]
  },
  {
   "cell_type": "code",
   "execution_count": null,
   "metadata": {},
   "outputs": [],
   "source": [
    "complaints = pd.read_csv(\"Complaint\")"
   ]
  }
 ],
 "metadata": {
  "kernelspec": {
   "display_name": "Python 3",
   "language": "python",
   "name": "python3"
  },
  "language_info": {
   "codemirror_mode": {
    "name": "ipython",
    "version": 3
   },
   "file_extension": ".py",
   "mimetype": "text/x-python",
   "name": "python",
   "nbconvert_exporter": "python",
   "pygments_lexer": "ipython3",
   "version": "3.7.3"
  }
 },
 "nbformat": 4,
 "nbformat_minor": 2
}
