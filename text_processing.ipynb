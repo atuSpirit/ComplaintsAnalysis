{
 "cells": [
  {
   "cell_type": "code",
   "execution_count": 24,
   "metadata": {},
   "outputs": [],
   "source": [
    "import pandas as pd\n",
    "import numpy as np\n",
    "import re\n",
    "import matplotlib.pyplot as plt"
   ]
  },
  {
   "cell_type": "code",
   "execution_count": 7,
   "metadata": {},
   "outputs": [],
   "source": [
    "complaints = pd.read_csv(\"data/complaints-2019-05-16_13_17.csv\")\n",
    "complaints = complaints.dropna(subset=[\"Consumer disputed?\"])"
   ]
  },
  {
   "cell_type": "code",
   "execution_count": 8,
   "metadata": {},
   "outputs": [
    {
     "name": "stdout",
     "output_type": "stream",
     "text": [
      "There are 164076 complaints with narrative with label\n"
     ]
    }
   ],
   "source": [
    "complaints_narrative = complaints.loc[:, [\"Complaint ID\",\"Consumer complaint narrative\", \"Consumer disputed?\"]]\n",
    "print(\"There are {} complaints with narrative with label\".format(len(complaints_narrative)))"
   ]
  },
  {
   "cell_type": "markdown",
   "metadata": {},
   "source": [
    "### Revisit Vader whether there is difference between dispute group and not dispute group"
   ]
  },
  {
   "cell_type": "code",
   "execution_count": 10,
   "metadata": {},
   "outputs": [],
   "source": [
    "dispute_complaints = complaints[complaints[\"Consumer disputed?\"] == \"Yes\"]\n",
    "not_dispute_complaints = complaints[complaints[\"Consumer disputed?\"] == \"No\"]"
   ]
  },
  {
   "cell_type": "code",
   "execution_count": 11,
   "metadata": {},
   "outputs": [],
   "source": [
    "from vaderSentiment.vaderSentiment import SentimentIntensityAnalyzer\n",
    "\n",
    "def vader_score(narratives):\n",
    "    analyser = SentimentIntensityAnalyzer()\n",
    "\n",
    "    sentiment_score_list = []\n",
    "    for narrative in narratives:\n",
    "        score = analyser.polarity_scores(narrative)\n",
    "        sentiment_score_list.append(score[\"compound\"])\n",
    "    \n",
    "    return sentiment_score_list\n",
    "\n"
   ]
  },
  {
   "cell_type": "code",
   "execution_count": 12,
   "metadata": {},
   "outputs": [],
   "source": [
    "scores_dispute = vader_score(dispute_complaints[\"Consumer complaint narrative\"])\n",
    "scores_not_dispute = vader_score(not_dispute_complaints[\"Consumer complaint narrative\"])"
   ]
  },
  {
   "cell_type": "code",
   "execution_count": 17,
   "metadata": {},
   "outputs": [
    {
     "data": {
      "text/plain": [
       "Text(0.5, 1.0, 'Distribution of sentiment score in dispute_complaints and not dispute complaints')"
      ]
     },
     "execution_count": 17,
     "metadata": {},
     "output_type": "execute_result"
    },
    {
     "data": {
      "image/png": "[encoded data removed]",
      "text/plain": [
       "<Figure size 432x288 with 1 Axes>"
      ]
     },
     "metadata": {
      "needs_background": "light"
     },
     "output_type": "display_data"
    }
   ],
   "source": [
    "\n",
    "plt.hist(scores_not_dispute, bins = 20)\n",
    "plt.hist(scores_dispute, bins = 20)\n",
    "plt.xlabel(\"Vader sentiment score\")\n",
    "plt.ylabel(\"Count\")\n",
    "plt.title(\"Distribution of sentiment score in dispute_complaints and not dispute complaints\")"
   ]
  },
  {
   "cell_type": "code",
   "execution_count": 28,
   "metadata": {},
   "outputs": [
    {
     "name": "stdout",
     "output_type": "stream",
     "text": [
      "(164076, 18)\n",
      "164076\n"
     ]
    }
   ],
   "source": [
    "def pre_process_narrative(complaints):\n",
    "    narratives = complaints[\"Consumer complaint narrative\"]\n",
    "    cleaned_narratives = []\n",
    "    \n",
    "    for narrative in narratives:\n",
    "        # Remove digits in the narrative. There are not useful for text classification\n",
    "        narrative = re.sub(r\"\\d+\", \"\", narrative)\n",
    "        # Remove XXXX which is substitute by US govenment to protect privacy\n",
    "        narrative = re.sub(r\"XXXX\", \"\", narrative)\n",
    "        cleaned_narratives.append(narrative)\n",
    "    \n",
    "    print(complaints.shape)\n",
    "    print(len(cleaned_narratives))\n",
    "    \n",
    "    complaints[\"cleaned_narrative\"] = cleaned_narratives\n",
    "\n",
    "pre_process_narrative(complaints)\n",
    "        "
   ]
  },
  {
   "cell_type": "code",
   "execution_count": 35,
   "metadata": {},
   "outputs": [],
   "source": [
    "from sklearn.decomposition import LatentDirichletAllocation\n",
    "from sklearn.feature_extraction.text import CountVectorizer\n",
    "\n",
    "def LDA(text):\n",
    "    vect = CountVectorizer(max_features=10000, ngram_range=(1,3), min_df=5, stop_words=\"english\")\n",
    "    #vect = CountVectorizer(ngram_range=(1,3), min_df=5, stop_words=\"english\")\n",
    "    X = vect.fit_transform(text)\n",
    "    #X = vect.fit_transform(text_train)\n",
    "\n",
    "    lda = LatentDirichletAllocation(n_topics=5, learning_method=\"batch\",\n",
    "                                    max_iter=25, random_state=0)\n",
    "    # We build the model and transform the data in one step\n",
    "    # Computing transform makes some time,\n",
    "    document_topics = lda.fit_transform(X)\n",
    "\n",
    "    print(lda.components_.shape)\n",
    "\n",
    "    sorting = np.argsort(lda.components_, axis=1)[:, ::-1]\n",
    "    feature_names = np.array(vect.get_feature_names())\n",
    "    \n",
    "    print(feature_names[:100])\n",
    "    return lda, vect"
   ]
  },
  {
   "cell_type": "code",
   "execution_count": 36,
   "metadata": {},
   "outputs": [
    {
     "name": "stderr",
     "output_type": "stream",
     "text": [
      "/anaconda3/envs/insight/lib/python3.7/site-packages/sklearn/decomposition/online_lda.py:314: DeprecationWarning: n_topics has been renamed to n_components in version 0.19 and will be removed in 0.21\n",
      "  DeprecationWarning)\n"
     ]
    },
    {
     "name": "stdout",
     "output_type": "stream",
     "text": [
      "(5, 2894)\n",
      "['ability' 'able' 'able forward' 'able forward credit' 'able make'\n",
      " 'able pay' 'able provide' 'able verify' 'able verify identity'\n",
      " 'absolutely' 'abusive' 'accept' 'acceptable' 'acceptance' 'accepted'\n",
      " 'accepting' 'access' 'access account' 'accessed' 'accident' 'accordance'\n",
      " 'according' 'account' 'account account' 'account balance' 'account bank'\n",
      " 'account called' 'account closed' 'account company' 'account credit'\n",
      " 'account credit report' 'account current' 'account date' 'account day'\n",
      " 'account days' 'account did' 'account does' 'account immediately'\n",
      " 'account information' 'account like' 'account listed' 'account month'\n",
      " 'account number' 'account open' 'account opened' 'account paid'\n",
      " 'account pay' 'account payments' 'account received' 'account removed'\n",
      " 'account reported' 'account said' 'account sent' 'account status'\n",
      " 'account time' 'account told' 'account transferred' 'account went'\n",
      " 'account xx' 'account xx xx' 'account years' 'accounting' 'accounts'\n",
      " 'accounts good' 'accounts good standing' 'accounts months'\n",
      " 'accounts months received' 'acct' 'accuracy' 'accurate' 'accurately'\n",
      " 'ach' 'acknowledge' 'acknowledged' 'acquired' 'act' 'act section'\n",
      " 'act section legally' 'acted' 'action' 'actions' 'active' 'activities'\n",
      " 'activity' 'actual' 'actually' 'add' 'added' 'added account' 'adding'\n",
      " 'addition' 'additional' 'additionally' 'address' 'address experian'\n",
      " 'address experian able' 'addressed' 'addresses' 'adequate' 'admitted']\n"
     ]
    }
   ],
   "source": [
    "\n",
    "sub_complaints = complaints[\"cleaned_narrative\"]\n",
    "\n",
    "lda, vect = LDA(sub_complaints[:1000])"
   ]
  },
  {
   "cell_type": "code",
   "execution_count": null,
   "metadata": {},
   "outputs": [],
   "source": []
  }
 ],
 "metadata": {
  "kernelspec": {
   "display_name": "Python 3",
   "language": "python",
   "name": "python3"
  },
  "language_info": {
   "codemirror_mode": {
    "name": "ipython",
    "version": 3
   },
   "file_extension": ".py",
   "mimetype": "text/x-python",
   "name": "python",
   "nbconvert_exporter": "python",
   "pygments_lexer": "ipython3",
   "version": "3.7.3"
  }
 },
 "nbformat": 4,
 "nbformat_minor": 2
}
