{
 "cells": [
  {
   "cell_type": "markdown",
   "metadata": {},
   "source": [
    "### Try to use Vader to classify"
   ]
  },
  {
   "cell_type": "code",
   "execution_count": 1,
   "metadata": {},
   "outputs": [],
   "source": [
    "import pandas as pd\n",
    "import numpy as np\n",
    "import matplotlib.pyplot as plt"
   ]
  },
  {
   "cell_type": "code",
   "execution_count": null,
   "metadata": {},
   "outputs": [],
   "source": [
    "complaints = pd.read_csv(\"data/complaints-2019-05-16_13_17.csv\")\n",
    "print(\"There are {} complaints with narrative \".format(len(complaints_narrative)))\n",
    "complaints = complaints.dropna(subset=[\"Consumer disputed?\"])\n",
    "\n",
    "complaints_narrative = complaints.loc[:, [\"Complaint ID\",\"Consumer complaint narrative\", \"Consumer disputed?\"]]\n",
    "print(\"There are {} complaints with narrative with label\".format(len(complaints_narrative)))"
   ]
  },
  {
   "cell_type": "code",
   "execution_count": 2,
   "metadata": {},
   "outputs": [
    {
     "ename": "IndentationError",
     "evalue": "unexpected indent (<ipython-input-2-e3ca9a22a9a2>, line 7)",
     "output_type": "error",
     "traceback": [
      "\u001b[0;36m  File \u001b[0;32m\"<ipython-input-2-e3ca9a22a9a2>\"\u001b[0;36m, line \u001b[0;32m7\u001b[0m\n\u001b[0;31m    word_num_list = []\u001b[0m\n\u001b[0m    ^\u001b[0m\n\u001b[0;31mIndentationError\u001b[0m\u001b[0;31m:\u001b[0m unexpected indent\n"
     ]
    }
   ],
   "source": [
    "from vaderSentiment.vaderSentiment import SentimentIntensityAnalyzer\n",
    "from nltk.tokenize import sent_tokenize,word_tokenize\n",
    "from nltk.corpus import stopwords\n",
    "\n",
    "\n",
    "analyser = SentimentIntensityAnalyzer()\n",
    "stop_words = set(stopwords.words('english'))\n",
    "sentiment_score_list = []\n",
    "word_num_list = []\n",
    "sentence_num_list = []\n",
    "\n",
    "i = 0\n",
    "for narrative in complaints[\"Consumer complaint narrative\"]:\n",
    "    print(narrative)\n",
    "    sentenceList = sent_tokenize(narrative)\n",
    "    sentence_score_list = []\n",
    "    word_num = 0\n",
    "    for sentence in sentenceList:\n",
    "        score = analyser.polarity_scores(sentence)\n",
    "        word_num += len(word_tokenize(sentence))\n",
    "        sentence_score_list.append(score[\"compound\"])\n",
    "    sentiment_score_list.append(score[\"compound\"])\n",
    "    sentence_num_list.append(len(sentence_score_list))\n",
    "    word_num_list.append(word_num)\n",
    "    i += 1\n",
    "    print(complaints.loc[disputed_complaints.index[i], [\"Consumer disputed?\", \"Company response to consumer\"]])\n",
    "    if i > 30:\n",
    "        break;\n",
    "    \"\"\"\n",
    "    sentenceList = sent_tokenize(row)\n",
    "    for sentence in sentenceList:\n",
    "        print(analyser.polarity_scores(sentence)['compound'])\n",
    "        \"\"\"\n"
   ]
  },
  {
   "cell_type": "code",
   "execution_count": 4,
   "metadata": {},
   "outputs": [
    {
     "data": {
      "text/plain": [
       "35807"
      ]
     },
     "execution_count": 4,
     "metadata": {},
     "output_type": "execute_result"
    }
   ],
   "source": [
    "26786 + 9021"
   ]
  }
 ],
 "metadata": {
  "kernelspec": {
   "display_name": "Python 3",
   "language": "python",
   "name": "python3"
  },
  "language_info": {
   "codemirror_mode": {
    "name": "ipython",
    "version": 3
   },
   "file_extension": ".py",
   "mimetype": "text/x-python",
   "name": "python",
   "nbconvert_exporter": "python",
   "pygments_lexer": "ipython3",
   "version": "3.7.1"
  }
 },
 "nbformat": 4,
 "nbformat_minor": 2
}
